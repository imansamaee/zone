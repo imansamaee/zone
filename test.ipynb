{
 "cells": [
  {
   "cell_type": "code",
   "execution_count": 1,
   "metadata": {},
   "outputs": [
    {
     "name": "stdout",
     "output_type": "stream",
     "text": [
      "\u001b[32m13:41:58.549\u001b[0m | \u001b[1mINFO    \u001b[0m | \u001b[36mapp_config\u001b[0m:\u001b[36mkill_process_on_port\u001b[0m:\u001b[36m170\u001b[0m - \u001b[1mPort 8001 is free to use!\u001b[0m\n",
      "\u001b[32m13:41:58.553\u001b[0m | \u001b[1mINFO    \u001b[0m | \u001b[36mbot\u001b[0m:\u001b[36m__init__\u001b[0m:\u001b[36m41\u001b[0m - \u001b[1mInitializing bot components...\u001b[0m\n",
      "\u001b[32m13:42:01.758\u001b[0m | \u001b[1mINFO    \u001b[0m | \u001b[36mkline_fetcher\u001b[0m:\u001b[36m__init__\u001b[0m:\u001b[36m19\u001b[0m - \u001b[1mInitialized with intervals: ['1m', '15m']\u001b[0m\n",
      "\u001b[32m13:42:01.764\u001b[0m | \u001b[1mINFO    \u001b[0m | \u001b[36mproducts\u001b[0m:\u001b[36m__init__\u001b[0m:\u001b[36m24\u001b[0m - \u001b[1mInitialized Products with 382 cryptos and 29 tags.\u001b[0m\n",
      "\u001b[32m13:42:06.125\u001b[0m | \u001b[1mINFO    \u001b[0m | \u001b[36mbot\u001b[0m:\u001b[36m__init__\u001b[0m:\u001b[36m59\u001b[0m - \u001b[1mBot initialization complete.\u001b[0m\n",
      "\u001b[32m13:42:06.127\u001b[0m | \u001b[1mINFO    \u001b[0m | \u001b[36mproducts\u001b[0m:\u001b[36mupdate_cryptos_klines\u001b[0m:\u001b[36m154\u001b[0m - \u001b[1mUpdating Products Klines...\u001b[0m\n",
      "\u001b[32m13:42:38.917\u001b[0m | \u001b[1mINFO    \u001b[0m | \u001b[36mproducts\u001b[0m:\u001b[36mupdate_cryptos_klines\u001b[0m:\u001b[36m171\u001b[0m - \u001b[1mProducts Klines Updated.\u001b[0m\n",
      "\u001b[32m13:42:38.919\u001b[0m | \u001b[1mINFO    \u001b[0m | \u001b[36mbot\u001b[0m:\u001b[36mstart_updaters\u001b[0m:\u001b[36m26\u001b[0m - \u001b[1mStarting updaters...\u001b[0m\n",
      "\u001b[32m13:42:38.920\u001b[0m | \u001b[1mINFO    \u001b[0m | \u001b[36mbot\u001b[0m:\u001b[36mrun_price_updater_async\u001b[0m:\u001b[36m76\u001b[0m - \u001b[1mStarting run_price_updater_async\u001b[0m\n",
      "\u001b[32m13:42:38.923\u001b[0m | \u001b[1mINFO    \u001b[0m | \u001b[36masync_price_updater\u001b[0m:\u001b[36mstart\u001b[0m:\u001b[36m189\u001b[0m - \u001b[1mAsyncPriceUpdater started.\u001b[0m\n",
      "\u001b[32m13:42:39.490\u001b[0m | \u001b[1mINFO    \u001b[0m | \u001b[36mbot\u001b[0m:\u001b[36mupdate_latest_data\u001b[0m:\u001b[36m86\u001b[0m - \u001b[1mStarting update_latest_data\u001b[0m\n",
      "\u001b[32m13:42:39.493\u001b[0m | \u001b[1mINFO    \u001b[0m | \u001b[36mbot\u001b[0m:\u001b[36mstart_order_creator\u001b[0m:\u001b[36m67\u001b[0m - \u001b[1mStarting order creator...\u001b[0m\n",
      "\u001b[32m13:42:39.495\u001b[0m | \u001b[1mINFO    \u001b[0m | \u001b[36morder_creator\u001b[0m:\u001b[36mcheck_and_create_orders\u001b[0m:\u001b[36m83\u001b[0m - \u001b[1mChecking for orders...\u001b[0m\n",
      "\u001b[32m13:42:39.779\u001b[0m | \u001b[1mINFO    \u001b[0m | \u001b[36morder_creator\u001b[0m:\u001b[36mcheck_and_create_orders\u001b[0m:\u001b[36m90\u001b[0m - \u001b[1mCurrent USDT balance: 192.65800473\u001b[0m\n",
      "\u001b[32m13:42:39.780\u001b[0m | \u001b[1mINFO    \u001b[0m | \u001b[36morder_creator\u001b[0m:\u001b[36mget_order_candidates\u001b[0m:\u001b[36m375\u001b[0m - \u001b[1mFetching order candidates...\u001b[0m\n",
      "\u001b[32m13:42:49.578\u001b[0m | \u001b[1mINFO    \u001b[0m | \u001b[36morder_creator\u001b[0m:\u001b[36mget_order_candidates\u001b[0m:\u001b[36m396\u001b[0m - \u001b[1mNo candidates found.\u001b[0m\n",
      "\u001b[32m13:42:49.583\u001b[0m | \u001b[1mINFO    \u001b[0m | \u001b[36morder_creator\u001b[0m:\u001b[36mcheck_and_create_orders\u001b[0m:\u001b[36m106\u001b[0m - \u001b[1mTrading is suspended by user.\u001b[0m\n",
      "\u001b[32m13:42:49.588\u001b[0m | \u001b[1mINFO    \u001b[0m | \u001b[36mapp_config\u001b[0m:\u001b[36mcancel_tasks\u001b[0m:\u001b[36m200\u001b[0m - \u001b[1mAll tasks cancelled.\u001b[0m\n"
     ]
    },
    {
     "name": "stdout",
     "output_type": "stream",
     "text": [
      "\u001b[32m14:12:38.946\u001b[0m | \u001b[1mINFO    \u001b[0m | \u001b[36mproducts\u001b[0m:\u001b[36mupdate_cryptos_klines\u001b[0m:\u001b[36m154\u001b[0m - \u001b[1mUpdating Products Klines...\u001b[0m\n",
      "\u001b[32m14:13:13.144\u001b[0m | \u001b[1mINFO    \u001b[0m | \u001b[36mproducts\u001b[0m:\u001b[36mupdate_cryptos_klines\u001b[0m:\u001b[36m171\u001b[0m - \u001b[1mProducts Klines Updated.\u001b[0m\n",
      "\u001b[32m14:43:13.156\u001b[0m | \u001b[1mINFO    \u001b[0m | \u001b[36mproducts\u001b[0m:\u001b[36mupdate_cryptos_klines\u001b[0m:\u001b[36m154\u001b[0m - \u001b[1mUpdating Products Klines...\u001b[0m\n",
      "\u001b[32m14:43:46.429\u001b[0m | \u001b[1mINFO    \u001b[0m | \u001b[36mproducts\u001b[0m:\u001b[36mupdate_cryptos_klines\u001b[0m:\u001b[36m171\u001b[0m - \u001b[1mProducts Klines Updated.\u001b[0m\n",
      "\u001b[32m15:13:46.490\u001b[0m | \u001b[1mINFO    \u001b[0m | \u001b[36mproducts\u001b[0m:\u001b[36mupdate_cryptos_klines\u001b[0m:\u001b[36m154\u001b[0m - \u001b[1mUpdating Products Klines...\u001b[0m\n",
      "\u001b[32m15:14:19.014\u001b[0m | \u001b[1mINFO    \u001b[0m | \u001b[36mproducts\u001b[0m:\u001b[36mupdate_cryptos_klines\u001b[0m:\u001b[36m171\u001b[0m - \u001b[1mProducts Klines Updated.\u001b[0m\n",
      "\u001b[32m15:44:19.090\u001b[0m | \u001b[1mINFO    \u001b[0m | \u001b[36mproducts\u001b[0m:\u001b[36mupdate_cryptos_klines\u001b[0m:\u001b[36m154\u001b[0m - \u001b[1mUpdating Products Klines...\u001b[0m\n",
      "\u001b[32m15:44:52.414\u001b[0m | \u001b[1mINFO    \u001b[0m | \u001b[36mproducts\u001b[0m:\u001b[36mupdate_cryptos_klines\u001b[0m:\u001b[36m171\u001b[0m - \u001b[1mProducts Klines Updated.\u001b[0m\n"
     ]
    }
   ],
   "source": [
    "from app_config import AppConfig\n",
    "from main import main\n",
    "await main(False) \n",
    "btc = AppConfig.get_crypto(\"btcusdt\")"
   ]
  },
  {
   "cell_type": "code",
   "execution_count": 5,
   "metadata": {},
   "outputs": [
    {
     "name": "stdout",
     "output_type": "stream",
     "text": [
      "      Symbol                              Immediate Demand Zone\n",
      "0   DUSKUSDT  {'low': 0.2321, 'high': 0.234421, 'creation_ti...\n",
      "1    XLMUSDT  {'low': 0.3506, 'high': 0.35410600000000003, '...\n",
      "2   SCRTUSDT  {'low': 0.5216, 'high': 0.526816, 'creation_ti...\n",
      "3   API3USDT  {'low': 1.656, 'high': 1.6725599999999998, 'cr...\n",
      "4    XNOUSDT  {'low': 1.64, 'high': 1.6563999999999999, 'cre...\n",
      "5  LEVERUSDT  {'low': 0.001839, 'high': 0.00185739, 'creatio...\n",
      "6   PEPEUSDT  {'low': 1.968e-05, 'high': 1.9876800000000003e...\n",
      "7    NFPUSDT  {'low': 0.2834, 'high': 0.286234, 'creation_ti...\n"
     ]
    }
   ],
   "source": [
    "import pandas as pd\n",
    "\n",
    "from zone_manager import ZoneManager\n",
    "\n",
    "# Initialize results list\n",
    "results = []\n",
    "\n",
    "# Iterate over AppConfig.bot.products.cryptos\n",
    "for symbol, crypto in AppConfig.bot.products.cryptos.items():\n",
    "    # Fetch Klines from AppConfig\n",
    "    klines = crypto.klines_cover\n",
    "    if not klines:\n",
    "        continue\n",
    "\n",
    "\n",
    "    # Initialize ZoneManager with raw Klines\n",
    "    zone_manager = ZoneManager(klines)  # Ensure ZoneManager is compatible with raw Klines\n",
    "\n",
    "    # Find consecutive green solid Klines\n",
    "    green_streaks = zone_manager.find_consecutive_green_solid_klines(\n",
    "        min_consecutive=3, wicks_ratio=4, min_percentage=1.0\n",
    "    )\n",
    "\n",
    "    # Ensure there are green streaks\n",
    "    if green_streaks:\n",
    "        # Find the immediate demand zone after green streaks\n",
    "        immediate_demand_zone = zone_manager.find_immediate_demand_zone(\n",
    "            green_streaks, base_candle_count=3, zone_buffer=0.01\n",
    "        )\n",
    "\n",
    "        # Store results if a valid demand zone is found\n",
    "        if immediate_demand_zone:\n",
    "            results.append({\n",
    "                \"Symbol\": symbol,\n",
    "                \"Immediate Demand Zone\": {\n",
    "                    \"low\": immediate_demand_zone.low,\n",
    "                    \"high\": immediate_demand_zone.high,\n",
    "                    \"creation_time\": immediate_demand_zone.creation_time,\n",
    "                    \"candles\": immediate_demand_zone.candles,\n",
    "                },\n",
    "            })\n",
    "        else:\n",
    "            print(f\"No Immediate Demand Zone for {symbol}\")\n",
    "\n",
    "# Convert results to a DataFrame for analysis\n",
    "valid_zones_df = pd.DataFrame(results)\n",
    "\n",
    "# Display the results\n",
    "print(valid_zones_df)\n"
   ]
  },
  {
   "cell_type": "code",
   "execution_count": 8,
   "metadata": {},
   "outputs": [
    {
     "name": "stderr",
     "output_type": "stream",
     "text": [
      "/tmp/ipykernel_318811/557545141.py:1: FutureWarning: Series.__getitem__ treating keys as positions is deprecated. In a future version, integer keys will always be treated as labels (consistent with DataFrame behavior). To access a value by position, use `ser.iloc[pos]`\n",
      "  z=valid_zones_df.iloc[0][1]\n"
     ]
    },
    {
     "data": {
      "text/plain": [
       "{'low': 0.2321,\n",
       " 'high': 0.234421,\n",
       " 'creation_time': datetime.datetime(2025, 1, 4, 13, 44, 19, 207145),\n",
       " 'candles': [[1735582500000,\n",
       "   0.2333,\n",
       "   0.2371,\n",
       "   0.2321,\n",
       "   0.236,\n",
       "   769757.0,\n",
       "   1735583399999,\n",
       "   181446.7476,\n",
       "   999,\n",
       "   322883.0,\n",
       "   76171.0541],\n",
       "  [1735583400000,\n",
       "   0.236,\n",
       "   0.2377,\n",
       "   0.2348,\n",
       "   0.2372,\n",
       "   737541.0,\n",
       "   1735584299999,\n",
       "   174382.0706,\n",
       "   909,\n",
       "   407786.0,\n",
       "   96423.2706],\n",
       "  [1735584300000,\n",
       "   0.2373,\n",
       "   0.24,\n",
       "   0.2373,\n",
       "   0.2388,\n",
       "   440257.0,\n",
       "   1735585199999,\n",
       "   105064.2851,\n",
       "   781,\n",
       "   246874.0,\n",
       "   58931.953]]}"
      ]
     },
     "execution_count": 8,
     "metadata": {},
     "output_type": "execute_result"
    }
   ],
   "source": [
    "z=valid_zones_df.iloc[0][1]\n",
    "z"
   ]
  }
 ],
 "metadata": {
  "kernelspec": {
   "display_name": ".venv",
   "language": "python",
   "name": "python3"
  },
  "language_info": {
   "codemirror_mode": {
    "name": "ipython",
    "version": 3
   },
   "file_extension": ".py",
   "mimetype": "text/x-python",
   "name": "python",
   "nbconvert_exporter": "python",
   "pygments_lexer": "ipython3",
   "version": "3.12.3"
  }
 },
 "nbformat": 4,
 "nbformat_minor": 2
}
