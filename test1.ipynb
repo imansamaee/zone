{
 "cells": [
  {
   "cell_type": "code",
   "execution_count": 32,
   "metadata": {},
   "outputs": [
    {
     "name": "stdout",
     "output_type": "stream",
     "text": [
      "Time difference: -0.0776 minutes\n",
      "Time difference buy: 16.9952 minutes\n"
     ]
    }
   ],
   "source": [
    "import json\n",
    "\n",
    "# Load the JSON file\n",
    "with open('static/pairs_history/order_POLYXUSDT_2024-12-23_01-30-21.json', 'r') as f:\n",
    "    order_data = json.load(f)\n",
    "\n",
    "\n",
    "# Extract the last Kline time and stop loss order time (convert to int)\n",
    "last_kline_time = order_data['trade_time_crypto']['klines_1m'][-1][0]\n",
    "stop_loss_time = int(order_data['order']['sell_order_limit_marker']['lastTradeTimestamp'])\n",
    "buy_time = int(order_data['order']['buy_order']['lastTradeTimestamp'])\n",
    "\n",
    "# Calculate the difference in milliseconds\n",
    "time_difference_ms = last_kline_time - stop_loss_time\n",
    "buy_difference_ms = last_kline_time - buy_time\n",
    "# Convert the difference to minutes\n",
    "time_difference_minutes = time_difference_ms / (1000 * 60)\n",
    "buy_difference_minutes = buy_difference_ms / (1000 * 60)\n",
    "\n",
    "# Print the time difference in minutes\n",
    "print(f\"Time difference: {time_difference_minutes:.4f} minutes\")\n",
    "print(f\"Time difference buy: {buy_difference_minutes:.4f} minutes\")"
   ]
  },
  {
   "cell_type": "code",
   "execution_count": 8,
   "metadata": {},
   "outputs": [
    {
     "name": "stdout",
     "output_type": "stream",
     "text": [
      "Time difference: 0:00:00.000046\n"
     ]
    }
   ],
   "source": [
    "from datetime import datetime, timezone\n",
    "\n",
    "# Assuming 'a' is your offset-aware datetime and 'b' is offset-naive\n",
    "a = datetime.now(timezone.utc)\n",
    "b = datetime.now()\n",
    "\n"
   ]
  },
  {
   "cell_type": "code",
   "execution_count": 9,
   "metadata": {},
   "outputs": [
    {
     "data": {
      "text/plain": [
       "datetime.datetime(2024, 12, 23, 18, 18, 1, 988505, tzinfo=datetime.timezone.utc)"
      ]
     },
     "execution_count": 9,
     "metadata": {},
     "output_type": "execute_result"
    }
   ],
   "source": [
    "a"
   ]
  },
  {
   "cell_type": "code",
   "execution_count": 10,
   "metadata": {},
   "outputs": [
    {
     "data": {
      "text/plain": [
       "datetime.datetime(2024, 12, 23, 18, 18, 1, 988551)"
      ]
     },
     "execution_count": 10,
     "metadata": {},
     "output_type": "execute_result"
    }
   ],
   "source": [
    "b"
   ]
  }
 ],
 "metadata": {
  "kernelspec": {
   "display_name": ".venv",
   "language": "python",
   "name": "python3"
  },
  "language_info": {
   "codemirror_mode": {
    "name": "ipython",
    "version": 3
   },
   "file_extension": ".py",
   "mimetype": "text/x-python",
   "name": "python",
   "nbconvert_exporter": "python",
   "pygments_lexer": "ipython3",
   "version": "3.12.3"
  }
 },
 "nbformat": 4,
 "nbformat_minor": 2
}
